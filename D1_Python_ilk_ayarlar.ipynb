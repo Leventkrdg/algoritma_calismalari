{
  "nbformat": 4,
  "nbformat_minor": 0,
  "metadata": {
    "colab": {
      "provenance": []
    },
    "kernelspec": {
      "name": "python3",
      "display_name": "Python 3"
    },
    "language_info": {
      "name": "python"
    }
  },
  "cells": [
    {
      "cell_type": "markdown",
      "source": [
        "İGÜ HEE ALGORİTMA DERSİ 01.10.2024\n",
        "İLK PYTHON PROGRAMLAMA DİLİ ÇIKTISIDIR."
      ],
      "metadata": {
        "id": "hidNtFRZc5Jq"
      }
    },
    {
      "cell_type": "code",
      "source": [
        "print(\"Merhaba IGU HEE Algoritma Sınıfı\") # İLK ÇIKTI"
      ],
      "metadata": {
        "colab": {
          "base_uri": "https://localhost:8080/"
        },
        "id": "_jI1CbYSc6FZ",
        "outputId": "bf9ffcc6-bd19-4d02-c717-208cda4df5ea"
      },
      "execution_count": 4,
      "outputs": [
        {
          "output_type": "stream",
          "name": "stdout",
          "text": [
            "Merhaba IGU HEE Algoritma Sınıfı\n"
          ]
        }
      ]
    },
    {
      "cell_type": "code",
      "source": [
        "import sys # import python progeamlama dilinde kütüphane eklemeye yarayan python kodudur.\n",
        "print (sys.version)"
      ],
      "metadata": {
        "colab": {
          "base_uri": "https://localhost:8080/"
        },
        "id": "9VlN0NFxeg1h",
        "outputId": "0766481f-1b62-41f3-e061-72da91c7464a"
      },
      "execution_count": 5,
      "outputs": [
        {
          "output_type": "stream",
          "name": "stdout",
          "text": [
            "3.10.12 (main, Sep 11 2024, 15:47:36) [GCC 11.4.0]\n"
          ]
        }
      ]
    },
    {
      "cell_type": "code",
      "source": [
        "from google.colab import drive #google colab - drive bağlantısı\n",
        "drive.mount('/content/drive')"
      ],
      "metadata": {
        "colab": {
          "base_uri": "https://localhost:8080/"
        },
        "id": "bdeSjHLYiGTB",
        "outputId": "0f2aa339-bfb1-4b23-d992-15ea9d8c0829"
      },
      "execution_count": 6,
      "outputs": [
        {
          "output_type": "stream",
          "name": "stdout",
          "text": [
            "Mounted at /content/drive\n"
          ]
        }
      ]
    },
    {
      "cell_type": "code",
      "source": [
        "import os\n",
        "\n",
        "os.chdir('/content/drive/My Drive/IGU_ALGORITMA')\n",
        "\n",
        "! pwd # bize kodun çıktısını dosya yolu olarak veren kod blogudur."
      ],
      "metadata": {
        "colab": {
          "base_uri": "https://localhost:8080/"
        },
        "id": "_ro9mPRrivYR",
        "outputId": "09429b52-70f5-4b09-fca8-41d1e0287c86"
      },
      "execution_count": 10,
      "outputs": [
        {
          "output_type": "stream",
          "name": "stdout",
          "text": [
            "/content/drive/My Drive/IGU_ALGORITMA\n"
          ]
        }
      ]
    }
  ]
}